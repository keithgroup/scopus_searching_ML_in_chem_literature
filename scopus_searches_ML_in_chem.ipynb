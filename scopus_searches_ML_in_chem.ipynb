{
 "cells": [
  {
   "cell_type": "markdown",
   "metadata": {},
   "source": [
    "## Scopus searches of machine learning algorithms in chemistry literature"
   ]
  },
  {
   "cell_type": "markdown",
   "metadata": {},
   "source": [
    "In this notebook, we search for occurrences of maching learning (ML) algorithm names in literature and visualize the findings. Literature topics are categorized based on the [ACS technical divisions.](https://www.acs.org/content/acs/en/membership-and-networks/join/websites.html) We consider a piece of literature to belong to a division if the title, abstract, or keywords list mention any keyword from the lists written in `acs_divisions.py` These lists contain words found in the titles of symposia for each technical division listed in the \"calls for abstracts\" for fall and spring ACS national meetings from 2017-2020."
   ]
  },
  {
   "cell_type": "markdown",
   "metadata": {},
   "source": [
    "We search for literature with the Scopus API via URL requests. To do the Scopus searches in this notebook (which is optional), you need an API key. [You can get one here.](https://dev.elsevier.com/) Once you get a key, add it to the file `config.json`"
   ]
  },
  {
   "cell_type": "code",
   "execution_count": 35,
   "metadata": {},
   "outputs": [],
   "source": [
    "import requests\n",
    "import json\n",
    "import urllib\n",
    "import pandas as pd\n",
    "import numpy as np\n",
    "\n",
    "from acs_divisions import divisions\n",
    "from utils import make_df, make_request, get_all_results\n",
    "\n",
    "# Load configuration, this should contain your API Key\n",
    "con_file = open(\"config.json\")\n",
    "config = json.load(con_file)\n",
    "con_file.close()"
   ]
  },
  {
   "cell_type": "markdown",
   "metadata": {},
   "source": [
    "Below are the names of machine learning algorithms that we will search. Some names appear in papers that don't explicitly mention ML, thus we have lists that may contain the algorithm name and the words \"machine learning.\""
   ]
  },
  {
   "cell_type": "code",
   "execution_count": 36,
   "metadata": {},
   "outputs": [],
   "source": [
    "ml_terms = [['naive bayes'],['bayesian network*'],['genetic algorithm*'],['particle swarm'],['decision tree*'],\n",
    "           ['random forest*'],['neural network*'],['back propagation','machine learning'],['nearest neigh*','machine learning'],['support vector*'],\n",
    "           ['regression','machine learning'],['gaussian process','kriging'],['clustering','machine learning']]"
   ]
  },
  {
   "cell_type": "code",
   "execution_count": 81,
   "metadata": {},
   "outputs": [],
   "source": [
    "years = [[1999,2011],[2010,2021]]"
   ]
  },
  {
   "cell_type": "markdown",
   "metadata": {},
   "source": [
    "Below is a function to make query strings. This takes a list of keywords, and checks if any or all are found based on the boolean operator provided. A search code is also supplied. The default value is \"TITLE-ABS-KEY.\""
   ]
  },
  {
   "cell_type": "code",
   "execution_count": 82,
   "metadata": {},
   "outputs": [],
   "source": [
    "def make_query_string(keywords,boolop=\"OR\",search_code=\"TITLE-ABS-KEY\"):\n",
    "    \"\"\"\n",
    "    Creates a Scopus query string used to search for ANY/ALL\n",
    "    keyword(s) from a list of keywords in a document's title, abstract, or \n",
    "    keyword list using the search code: \"TITLE-ABS-KEY\"\n",
    "    \"\"\"\n",
    "    qstring = ''\n",
    "    for i in range(len(keywords)):\n",
    "        \n",
    "        if i != len(keywords) - 1:\n",
    "            qstring += f'\\\"{keywords[i]}\\\"' + f' {boolop} '\n",
    "        \n",
    "        else:\n",
    "            qstring += f'\\\"{keywords[i]}\\\"'\n",
    "\n",
    "    qstring = search_code + \"(\" + qstring + \")\"\n",
    "    \n",
    "    return qstring"
   ]
  },
  {
   "cell_type": "markdown",
   "metadata": {},
   "source": [
    "Here we're looping through each division and find occurences of each machine learning algorithm. As mentioned above, some algorithm names need to be searched with the term \"machine learning\" because those names may occur in documents that aren't related to machine learning, ie. \"regression.\" \n",
    "\n",
    "**This step is optional because this cells takes a good amount of time to run. Skip to the cells below the text cell that begins with \"! ! ! !\" to get the search results.**"
   ]
  },
  {
   "cell_type": "code",
   "execution_count": 83,
   "metadata": {},
   "outputs": [],
   "source": [
    "divisions = {'GEOC': divisions['GEOC']}\n",
    "ml_terms = [['regression']]"
   ]
  },
  {
   "cell_type": "code",
   "execution_count": 40,
   "metadata": {},
   "outputs": [
    {
     "name": "stdout",
     "output_type": "stream",
     "text": [
      "TITLE-ABS-KEY(\"*geochem*\" OR \"iron oxide*\" OR \"inorganic solid*\" OR \"oil and gas development\" OR \"manganese oxide*\" OR \"contaminated soil\" OR \"groundwater\" OR \"geogenic\" OR \"anthropogenic\" OR \"clathrate hydrate\" OR \"geological process*\" OR \"mineral dissolution\" OR \"contaminated site remediation\" OR \"biomineralization\" OR \"hydraulic frac*\" OR \"soil ecosystem*\" OR \"unconventional oil and gas development\" OR \"cementitious material*\") OR TITLE-ABS-KEY(\"mining\" AND \"geo*\") AND TITLE-ABS-KEY(\"regression\")\n",
      "\n"
     ]
    }
   ],
   "source": [
    "df = pd.DataFrame()\n",
    "results = {}\n",
    "\n",
    "for acronym in divisions:\n",
    "    \n",
    "    division_dict = {}\n",
    "\n",
    "    for term in ml_terms:\n",
    "\n",
    "        keywords = divisions[acronym]['keywords']\n",
    "    \n",
    "        plain_query = make_query_string(keywords)\n",
    "        \n",
    "        if acronym == 'GEOC':\n",
    "            \n",
    "            plain_query += \" OR \" + make_query_string(['mining','geo*'],\"AND\")\n",
    "        \n",
    "        if term[-1] == 'machine learning':\n",
    "            \n",
    "            plain_query += \" AND \" + make_query_string(term,\"AND\")\n",
    "            \n",
    "        else:\n",
    "            \n",
    "            plain_query += \" AND \" + make_query_string(term)\n",
    "        \n",
    "        #request = make_request(plain_query, config['apikey'])\n",
    "        #num_results = request['search-results']['opensearch:totalResults']\n",
    "        #print(acronym, term[0], num_results)\n",
    "        \n",
    "        #df.loc[acronym,term[0]] = num_results\n",
    "        \n",
    "        #division_dict.update({term[0]:request})\n",
    "        \n",
    "        print(plain_query)\n",
    "        print()\n",
    "        \n",
    "    results.update({acronym:division_dict})\n"
   ]
  },
  {
   "cell_type": "code",
   "execution_count": 79,
   "metadata": {},
   "outputs": [
    {
     "data": {
      "text/plain": [
       "'1000777'"
      ]
     },
     "execution_count": 79,
     "metadata": {},
     "output_type": "execute_result"
    }
   ],
   "source": [
    "plain_query = 'TITLE-ABS-KEY(\"regression\" OR \"machine learning\") AND (PUBYEAR > 2010 AND PUBYEAR < 2021)'\n",
    "request = make_request(plain_query, 'a5e0da7d1a395072e6919814ae756e9f')\n",
    "num_results = request['search-results']['opensearch:totalResults']\n",
    "num_results"
   ]
  },
  {
   "cell_type": "markdown",
   "metadata": {},
   "source": [
    "Saving a CSV file with records of the number of results for each search. This will be used for constructing the visualization."
   ]
  },
  {
   "cell_type": "code",
   "execution_count": 21,
   "metadata": {},
   "outputs": [],
   "source": [
    "df.to_csv('search_results.csv')"
   ]
  },
  {
   "cell_type": "markdown",
   "metadata": {},
   "source": [
    "Saving the raw search results to a JSON file."
   ]
  },
  {
   "cell_type": "code",
   "execution_count": 22,
   "metadata": {},
   "outputs": [],
   "source": [
    "with open('search_results.json','w') as out:\n",
    "    json.dump(results,out)"
   ]
  },
  {
   "cell_type": "markdown",
   "metadata": {},
   "source": [
    "**! ! ! !** Here you can read the results of the Scopus searches above."
   ]
  },
  {
   "cell_type": "code",
   "execution_count": 61,
   "metadata": {},
   "outputs": [],
   "source": [
    "df_search_results = pd.read_csv('search_results.csv')"
   ]
  },
  {
   "cell_type": "markdown",
   "metadata": {},
   "source": [
    "Here, we're looping through every keyword in `acs_divisions.py` and counting how many times each are found in literature. This helps us identify the top keywords that contribute to our final results. \n",
    "\n",
    "**This step is optional because this cells takes a LONG time to run. Skip to the cells below the text cell that begins with \"! ! ! !\" to get the search results.**"
   ]
  },
  {
   "cell_type": "code",
   "execution_count": 62,
   "metadata": {},
   "outputs": [
    {
     "ename": "KeyError",
     "evalue": "'search-results'",
     "output_type": "error",
     "traceback": [
      "\u001b[1;31m---------------------------------------------------------------------------\u001b[0m",
      "\u001b[1;31mKeyError\u001b[0m                                  Traceback (most recent call last)",
      "\u001b[1;32m<ipython-input-62-baba71f00b78>\u001b[0m in \u001b[0;36m<module>\u001b[1;34m\u001b[0m\n\u001b[0;32m     23\u001b[0m \u001b[1;33m\u001b[0m\u001b[0m\n\u001b[0;32m     24\u001b[0m             \u001b[0mrequest\u001b[0m \u001b[1;33m=\u001b[0m \u001b[0mmake_request\u001b[0m\u001b[1;33m(\u001b[0m\u001b[0mplain_query\u001b[0m\u001b[1;33m,\u001b[0m \u001b[0mconfig\u001b[0m\u001b[1;33m[\u001b[0m\u001b[1;34m'apikey'\u001b[0m\u001b[1;33m]\u001b[0m\u001b[1;33m)\u001b[0m\u001b[1;33m\u001b[0m\u001b[1;33m\u001b[0m\u001b[0m\n\u001b[1;32m---> 25\u001b[1;33m             \u001b[0mnum_results\u001b[0m \u001b[1;33m=\u001b[0m \u001b[0mrequest\u001b[0m\u001b[1;33m[\u001b[0m\u001b[1;34m'search-results'\u001b[0m\u001b[1;33m]\u001b[0m\u001b[1;33m[\u001b[0m\u001b[1;34m'opensearch:totalResults'\u001b[0m\u001b[1;33m]\u001b[0m\u001b[1;33m\u001b[0m\u001b[1;33m\u001b[0m\u001b[0m\n\u001b[0m\u001b[0;32m     26\u001b[0m             \u001b[0mprint\u001b[0m\u001b[1;33m(\u001b[0m\u001b[0mdiv\u001b[0m\u001b[1;33m,\u001b[0m \u001b[0mkeyword\u001b[0m\u001b[1;33m,\u001b[0m \u001b[0mterm\u001b[0m\u001b[1;33m[\u001b[0m\u001b[1;36m0\u001b[0m\u001b[1;33m]\u001b[0m\u001b[1;33m,\u001b[0m \u001b[0mnum_results\u001b[0m\u001b[1;33m)\u001b[0m\u001b[1;33m\u001b[0m\u001b[1;33m\u001b[0m\u001b[0m\n\u001b[0;32m     27\u001b[0m \u001b[1;33m\u001b[0m\u001b[0m\n",
      "\u001b[1;31mKeyError\u001b[0m: 'search-results'"
     ]
    }
   ],
   "source": [
    "df = pd.DataFrame()\n",
    "iloc = -1\n",
    "for div in divisions:\n",
    "    for keyword in divisions[div]['keywords']:\n",
    "        \n",
    "        div_dict = {'Division':div,\n",
    "                   'Keyword':keyword}\n",
    "\n",
    "        num_results_total = 0\n",
    "        for term in ml_terms:\n",
    "            \n",
    "            iloc += 1\n",
    "            \n",
    "            plain_query = make_query_string([keyword])\n",
    "            \n",
    "            if term[-1] == 'machine learning':\n",
    "                \n",
    "                plain_query += \" AND \" + make_query_string(term,\"AND\")\n",
    "                \n",
    "            else:\n",
    "                \n",
    "                plain_query += \" AND \" + make_query_string(term)\n",
    "                \n",
    "            request = make_request(plain_query, config['apikey'])\n",
    "            num_results = request['search-results']['opensearch:totalResults']\n",
    "            print(div, keyword, term[0], num_results)\n",
    "        \n",
    "            div_dict.update({term[0]:num_results})\n",
    "            num_results_total += int(num_results)\n",
    "            \n",
    "        div_dict.update({'Total':num_results_total})\n",
    "        df = df.append(div_dict,ignore_index = True)\n",
    "                \n",
    "            #print(plain_query)"
   ]
  },
  {
   "cell_type": "markdown",
   "metadata": {},
   "source": [
    "Doing a separate search for the number of occurences searching for \"mining\" AND \"geo*\""
   ]
  },
  {
   "cell_type": "code",
   "execution_count": 25,
   "metadata": {},
   "outputs": [
    {
     "name": "stdout",
     "output_type": "stream",
     "text": [
      "naive bayes 70\n",
      "bayesian network* 122\n",
      "genetic algorithm* 328\n",
      "particle swarm 102\n",
      "decision tree* 716\n",
      "random forest* 275\n",
      "neural network* 1188\n",
      "back propagation 11\n",
      "nearest neigh* 48\n",
      "support vector* 556\n",
      "regression 131\n",
      "gaussian process 676\n"
     ]
    }
   ],
   "source": [
    "mining_dict = {'Division':'GEOC',\n",
    "              'Keyword':'mining'}\n",
    "\n",
    "num_results_total = 0\n",
    "for term in ml_terms:\n",
    "            \n",
    "            plain_query = make_query_string(['mining','geo*'],\"AND\")\n",
    "            \n",
    "            if term[-1] == 'machine learning':\n",
    "                \n",
    "                plain_query += \" AND \" + make_query_string(term,\"AND\")\n",
    "                \n",
    "            else:\n",
    "                \n",
    "                plain_query += \" AND \" + make_query_string(term)\n",
    "                \n",
    "            request = make_request(plain_query, config['apikey'])\n",
    "            num_results = request['search-results']['opensearch:totalResults']\n",
    "            mining_dict.update({term[0]:num_results})\n",
    "            num_results_total += int(num_results)\n",
    "            print(term[0], num_results)\n",
    "                \n",
    "            #print(plain_query)\n",
    "            \n",
    "mining_dict.update({'Total':num_results_total})\n",
    "df = df.append(mining_dict,ignore_index = True)"
   ]
  },
  {
   "cell_type": "code",
   "execution_count": 27,
   "metadata": {},
   "outputs": [],
   "source": [
    "df.to_csv('occurences_of_individual_keywords.csv')"
   ]
  },
  {
   "cell_type": "markdown",
   "metadata": {},
   "source": [
    "**! ! ! !** Here you can read the results of the searches from the above cells."
   ]
  },
  {
   "cell_type": "code",
   "execution_count": 63,
   "metadata": {},
   "outputs": [],
   "source": [
    "df_keywords = pd.read_csv('occurences_of_individual_keywords.csv').drop(columns='Unnamed: 0')"
   ]
  },
  {
   "cell_type": "code",
   "execution_count": 64,
   "metadata": {},
   "outputs": [
    {
     "data": {
      "text/html": [
       "<div>\n",
       "<style scoped>\n",
       "    .dataframe tbody tr th:only-of-type {\n",
       "        vertical-align: middle;\n",
       "    }\n",
       "\n",
       "    .dataframe tbody tr th {\n",
       "        vertical-align: top;\n",
       "    }\n",
       "\n",
       "    .dataframe thead th {\n",
       "        text-align: right;\n",
       "    }\n",
       "</style>\n",
       "<table border=\"1\" class=\"dataframe\">\n",
       "  <thead>\n",
       "    <tr style=\"text-align: right;\">\n",
       "      <th></th>\n",
       "      <th>Division</th>\n",
       "      <th>Keyword</th>\n",
       "      <th>Total</th>\n",
       "      <th>back propagation</th>\n",
       "      <th>bayesian network*</th>\n",
       "      <th>decision tree*</th>\n",
       "      <th>gaussian process</th>\n",
       "      <th>genetic algorithm*</th>\n",
       "      <th>naive bayes</th>\n",
       "      <th>nearest neigh*</th>\n",
       "      <th>neural network*</th>\n",
       "      <th>particle swarm</th>\n",
       "      <th>random forest*</th>\n",
       "      <th>regression</th>\n",
       "      <th>support vector*</th>\n",
       "    </tr>\n",
       "  </thead>\n",
       "  <tbody>\n",
       "    <tr>\n",
       "      <th>0</th>\n",
       "      <td>AGFD</td>\n",
       "      <td>agricultur*</td>\n",
       "      <td>16595.0</td>\n",
       "      <td>44</td>\n",
       "      <td>538</td>\n",
       "      <td>1854</td>\n",
       "      <td>1748</td>\n",
       "      <td>1567</td>\n",
       "      <td>140</td>\n",
       "      <td>133</td>\n",
       "      <td>5689</td>\n",
       "      <td>514</td>\n",
       "      <td>1454</td>\n",
       "      <td>512</td>\n",
       "      <td>2402</td>\n",
       "    </tr>\n",
       "    <tr>\n",
       "      <th>1</th>\n",
       "      <td>AGFD</td>\n",
       "      <td>food</td>\n",
       "      <td>9962.0</td>\n",
       "      <td>12</td>\n",
       "      <td>335</td>\n",
       "      <td>1166</td>\n",
       "      <td>215</td>\n",
       "      <td>1145</td>\n",
       "      <td>124</td>\n",
       "      <td>83</td>\n",
       "      <td>4000</td>\n",
       "      <td>513</td>\n",
       "      <td>626</td>\n",
       "      <td>294</td>\n",
       "      <td>1449</td>\n",
       "    </tr>\n",
       "    <tr>\n",
       "      <th>2</th>\n",
       "      <td>AGFD</td>\n",
       "      <td>microbiological hazard*</td>\n",
       "      <td>8.0</td>\n",
       "      <td>0</td>\n",
       "      <td>2</td>\n",
       "      <td>6</td>\n",
       "      <td>0</td>\n",
       "      <td>0</td>\n",
       "      <td>0</td>\n",
       "      <td>0</td>\n",
       "      <td>0</td>\n",
       "      <td>0</td>\n",
       "      <td>0</td>\n",
       "      <td>0</td>\n",
       "      <td>0</td>\n",
       "    </tr>\n",
       "    <tr>\n",
       "      <th>3</th>\n",
       "      <td>AGFD</td>\n",
       "      <td>metabolomic*</td>\n",
       "      <td>1102.0</td>\n",
       "      <td>2</td>\n",
       "      <td>41</td>\n",
       "      <td>112</td>\n",
       "      <td>5</td>\n",
       "      <td>94</td>\n",
       "      <td>10</td>\n",
       "      <td>11</td>\n",
       "      <td>156</td>\n",
       "      <td>7</td>\n",
       "      <td>334</td>\n",
       "      <td>78</td>\n",
       "      <td>252</td>\n",
       "    </tr>\n",
       "    <tr>\n",
       "      <th>4</th>\n",
       "      <td>AGFD</td>\n",
       "      <td>antibiotic*</td>\n",
       "      <td>1624.0</td>\n",
       "      <td>1</td>\n",
       "      <td>71</td>\n",
       "      <td>583</td>\n",
       "      <td>10</td>\n",
       "      <td>196</td>\n",
       "      <td>13</td>\n",
       "      <td>14</td>\n",
       "      <td>354</td>\n",
       "      <td>14</td>\n",
       "      <td>117</td>\n",
       "      <td>55</td>\n",
       "      <td>196</td>\n",
       "    </tr>\n",
       "    <tr>\n",
       "      <th>...</th>\n",
       "      <td>...</td>\n",
       "      <td>...</td>\n",
       "      <td>...</td>\n",
       "      <td>...</td>\n",
       "      <td>...</td>\n",
       "      <td>...</td>\n",
       "      <td>...</td>\n",
       "      <td>...</td>\n",
       "      <td>...</td>\n",
       "      <td>...</td>\n",
       "      <td>...</td>\n",
       "      <td>...</td>\n",
       "      <td>...</td>\n",
       "      <td>...</td>\n",
       "      <td>...</td>\n",
       "    </tr>\n",
       "    <tr>\n",
       "      <th>539</th>\n",
       "      <td>SCHB</td>\n",
       "      <td>chem* sector*</td>\n",
       "      <td>4.0</td>\n",
       "      <td>0</td>\n",
       "      <td>0</td>\n",
       "      <td>0</td>\n",
       "      <td>0</td>\n",
       "      <td>0</td>\n",
       "      <td>0</td>\n",
       "      <td>0</td>\n",
       "      <td>3</td>\n",
       "      <td>0</td>\n",
       "      <td>0</td>\n",
       "      <td>0</td>\n",
       "      <td>1</td>\n",
       "    </tr>\n",
       "    <tr>\n",
       "      <th>540</th>\n",
       "      <td>SCHB</td>\n",
       "      <td>academic entrepreneur*</td>\n",
       "      <td>2.0</td>\n",
       "      <td>0</td>\n",
       "      <td>2</td>\n",
       "      <td>0</td>\n",
       "      <td>0</td>\n",
       "      <td>0</td>\n",
       "      <td>0</td>\n",
       "      <td>0</td>\n",
       "      <td>0</td>\n",
       "      <td>0</td>\n",
       "      <td>0</td>\n",
       "      <td>0</td>\n",
       "      <td>0</td>\n",
       "    </tr>\n",
       "    <tr>\n",
       "      <th>541</th>\n",
       "      <td>SCHB</td>\n",
       "      <td>commercial chem*</td>\n",
       "      <td>7.0</td>\n",
       "      <td>0</td>\n",
       "      <td>0</td>\n",
       "      <td>2</td>\n",
       "      <td>0</td>\n",
       "      <td>0</td>\n",
       "      <td>1</td>\n",
       "      <td>0</td>\n",
       "      <td>1</td>\n",
       "      <td>0</td>\n",
       "      <td>1</td>\n",
       "      <td>0</td>\n",
       "      <td>2</td>\n",
       "    </tr>\n",
       "    <tr>\n",
       "      <th>542</th>\n",
       "      <td>SCHB</td>\n",
       "      <td>science advoca*</td>\n",
       "      <td>1.0</td>\n",
       "      <td>0</td>\n",
       "      <td>0</td>\n",
       "      <td>1</td>\n",
       "      <td>0</td>\n",
       "      <td>0</td>\n",
       "      <td>0</td>\n",
       "      <td>0</td>\n",
       "      <td>0</td>\n",
       "      <td>0</td>\n",
       "      <td>0</td>\n",
       "      <td>0</td>\n",
       "      <td>0</td>\n",
       "    </tr>\n",
       "    <tr>\n",
       "      <th>543</th>\n",
       "      <td>GEOC</td>\n",
       "      <td>mining</td>\n",
       "      <td>4223.0</td>\n",
       "      <td>11</td>\n",
       "      <td>122</td>\n",
       "      <td>716</td>\n",
       "      <td>676</td>\n",
       "      <td>328</td>\n",
       "      <td>70</td>\n",
       "      <td>48</td>\n",
       "      <td>1188</td>\n",
       "      <td>102</td>\n",
       "      <td>275</td>\n",
       "      <td>131</td>\n",
       "      <td>556</td>\n",
       "    </tr>\n",
       "  </tbody>\n",
       "</table>\n",
       "<p>544 rows × 15 columns</p>\n",
       "</div>"
      ],
      "text/plain": [
       "    Division                  Keyword    Total  back propagation  \\\n",
       "0       AGFD              agricultur*  16595.0                44   \n",
       "1       AGFD                     food   9962.0                12   \n",
       "2       AGFD  microbiological hazard*      8.0                 0   \n",
       "3       AGFD             metabolomic*   1102.0                 2   \n",
       "4       AGFD              antibiotic*   1624.0                 1   \n",
       "..       ...                      ...      ...               ...   \n",
       "539     SCHB            chem* sector*      4.0                 0   \n",
       "540     SCHB   academic entrepreneur*      2.0                 0   \n",
       "541     SCHB         commercial chem*      7.0                 0   \n",
       "542     SCHB          science advoca*      1.0                 0   \n",
       "543     GEOC                   mining   4223.0                11   \n",
       "\n",
       "     bayesian network*  decision tree*  gaussian process  genetic algorithm*  \\\n",
       "0                  538            1854              1748                1567   \n",
       "1                  335            1166               215                1145   \n",
       "2                    2               6                 0                   0   \n",
       "3                   41             112                 5                  94   \n",
       "4                   71             583                10                 196   \n",
       "..                 ...             ...               ...                 ...   \n",
       "539                  0               0                 0                   0   \n",
       "540                  2               0                 0                   0   \n",
       "541                  0               2                 0                   0   \n",
       "542                  0               1                 0                   0   \n",
       "543                122             716               676                 328   \n",
       "\n",
       "     naive bayes  nearest neigh*  neural network*  particle swarm  \\\n",
       "0            140             133             5689             514   \n",
       "1            124              83             4000             513   \n",
       "2              0               0                0               0   \n",
       "3             10              11              156               7   \n",
       "4             13              14              354              14   \n",
       "..           ...             ...              ...             ...   \n",
       "539            0               0                3               0   \n",
       "540            0               0                0               0   \n",
       "541            1               0                1               0   \n",
       "542            0               0                0               0   \n",
       "543           70              48             1188             102   \n",
       "\n",
       "     random forest*  regression  support vector*  \n",
       "0              1454         512             2402  \n",
       "1               626         294             1449  \n",
       "2                 0           0                0  \n",
       "3               334          78              252  \n",
       "4               117          55              196  \n",
       "..              ...         ...              ...  \n",
       "539               0           0                1  \n",
       "540               0           0                0  \n",
       "541               1           0                2  \n",
       "542               0           0                0  \n",
       "543             275         131              556  \n",
       "\n",
       "[544 rows x 15 columns]"
      ]
     },
     "execution_count": 64,
     "metadata": {},
     "output_type": "execute_result"
    }
   ],
   "source": [
    "df_keywords"
   ]
  },
  {
   "cell_type": "markdown",
   "metadata": {},
   "source": [
    "Here we find the top five frequently found keywords for each division."
   ]
  },
  {
   "cell_type": "code",
   "execution_count": 65,
   "metadata": {},
   "outputs": [],
   "source": [
    "df_top_five = pd.DataFrame()\n",
    "\n",
    "for div in divisions:\n",
    "    \n",
    "    five = df_keywords.loc[df_keywords['Division'] == div]['Total'].nlargest(5).index\n",
    "    five_df = df_keywords.iloc[five][['Division','Keyword','Total']]\n",
    "    df_top_five = pd.concat([df_top_five,five_df])"
   ]
  },
  {
   "cell_type": "code",
   "execution_count": 66,
   "metadata": {},
   "outputs": [
    {
     "data": {
      "text/html": [
       "<div>\n",
       "<style scoped>\n",
       "    .dataframe tbody tr th:only-of-type {\n",
       "        vertical-align: middle;\n",
       "    }\n",
       "\n",
       "    .dataframe tbody tr th {\n",
       "        vertical-align: top;\n",
       "    }\n",
       "\n",
       "    .dataframe thead th {\n",
       "        text-align: right;\n",
       "    }\n",
       "</style>\n",
       "<table border=\"1\" class=\"dataframe\">\n",
       "  <thead>\n",
       "    <tr style=\"text-align: right;\">\n",
       "      <th></th>\n",
       "      <th>Division</th>\n",
       "      <th>Keyword</th>\n",
       "      <th>Total</th>\n",
       "    </tr>\n",
       "  </thead>\n",
       "  <tbody>\n",
       "    <tr>\n",
       "      <th>45</th>\n",
       "      <td>AGFD</td>\n",
       "      <td>protein*</td>\n",
       "      <td>28984.0</td>\n",
       "    </tr>\n",
       "    <tr>\n",
       "      <th>0</th>\n",
       "      <td>AGFD</td>\n",
       "      <td>agricultur*</td>\n",
       "      <td>16595.0</td>\n",
       "    </tr>\n",
       "    <tr>\n",
       "      <th>1</th>\n",
       "      <td>AGFD</td>\n",
       "      <td>food</td>\n",
       "      <td>9962.0</td>\n",
       "    </tr>\n",
       "    <tr>\n",
       "      <th>36</th>\n",
       "      <td>AGFD</td>\n",
       "      <td>fruit*</td>\n",
       "      <td>5217.0</td>\n",
       "    </tr>\n",
       "    <tr>\n",
       "      <th>9</th>\n",
       "      <td>AGFD</td>\n",
       "      <td>nut*</td>\n",
       "      <td>4852.0</td>\n",
       "    </tr>\n",
       "    <tr>\n",
       "      <th>...</th>\n",
       "      <td>...</td>\n",
       "      <td>...</td>\n",
       "      <td>...</td>\n",
       "    </tr>\n",
       "    <tr>\n",
       "      <th>538</th>\n",
       "      <td>RUBB</td>\n",
       "      <td>rubber*</td>\n",
       "      <td>1068.0</td>\n",
       "    </tr>\n",
       "    <tr>\n",
       "      <th>541</th>\n",
       "      <td>SCHB</td>\n",
       "      <td>commercial chem*</td>\n",
       "      <td>7.0</td>\n",
       "    </tr>\n",
       "    <tr>\n",
       "      <th>539</th>\n",
       "      <td>SCHB</td>\n",
       "      <td>chem* sector*</td>\n",
       "      <td>4.0</td>\n",
       "    </tr>\n",
       "    <tr>\n",
       "      <th>540</th>\n",
       "      <td>SCHB</td>\n",
       "      <td>academic entrepreneur*</td>\n",
       "      <td>2.0</td>\n",
       "    </tr>\n",
       "    <tr>\n",
       "      <th>542</th>\n",
       "      <td>SCHB</td>\n",
       "      <td>science advoca*</td>\n",
       "      <td>1.0</td>\n",
       "    </tr>\n",
       "  </tbody>\n",
       "</table>\n",
       "<p>140 rows × 3 columns</p>\n",
       "</div>"
      ],
      "text/plain": [
       "    Division                 Keyword    Total\n",
       "45      AGFD                protein*  28984.0\n",
       "0       AGFD             agricultur*  16595.0\n",
       "1       AGFD                    food   9962.0\n",
       "36      AGFD                  fruit*   5217.0\n",
       "9       AGFD                    nut*   4852.0\n",
       "..       ...                     ...      ...\n",
       "538     RUBB                 rubber*   1068.0\n",
       "541     SCHB        commercial chem*      7.0\n",
       "539     SCHB           chem* sector*      4.0\n",
       "540     SCHB  academic entrepreneur*      2.0\n",
       "542     SCHB         science advoca*      1.0\n",
       "\n",
       "[140 rows x 3 columns]"
      ]
     },
     "execution_count": 66,
     "metadata": {},
     "output_type": "execute_result"
    }
   ],
   "source": [
    "df_top_five"
   ]
  },
  {
   "cell_type": "markdown",
   "metadata": {},
   "source": [
    "Write new CSV with top fives"
   ]
  },
  {
   "cell_type": "code",
   "execution_count": 32,
   "metadata": {},
   "outputs": [],
   "source": [
    "df_top_five.to_csv('top_five_keywords.csv')"
   ]
  },
  {
   "cell_type": "markdown",
   "metadata": {},
   "source": [
    "List of ML algorithm names to label the heatmap properly."
   ]
  },
  {
   "cell_type": "code",
   "execution_count": 67,
   "metadata": {},
   "outputs": [],
   "source": [
    "ml_terms_formatted = ['Back Propagation + ML','Nearest Neighbors + ML','Naive Bayes','Regression + ML',\n",
    "                      'Bayesian Networks','Random Forest','Particle Swarm','Gaussian Process/Kriging',\n",
    "                      'Decision Tree','Support Vectors','Genetic Algorithms','Neural Networks']"
   ]
  },
  {
   "cell_type": "markdown",
   "metadata": {},
   "source": [
    "Now we'll read in the data from the Scopus searches and organize the data for our visualization."
   ]
  },
  {
   "cell_type": "code",
   "execution_count": 68,
   "metadata": {},
   "outputs": [],
   "source": [
    "df = pd.read_csv('search_results.csv')"
   ]
  },
  {
   "cell_type": "markdown",
   "metadata": {},
   "source": [
    "Rearranging rows so that they are in order of decreasing average number of occurences."
   ]
  },
  {
   "cell_type": "code",
   "execution_count": 69,
   "metadata": {},
   "outputs": [],
   "source": [
    "df = df.reindex(df.mean(axis=1).sort_values().index[::-1], axis=0)"
   ]
  },
  {
   "cell_type": "code",
   "execution_count": 70,
   "metadata": {},
   "outputs": [],
   "source": [
    "divisions = df['Unnamed: 0'].values\n",
    "df = df.drop(labels=['Unnamed: 0'], axis=1)"
   ]
  },
  {
   "cell_type": "markdown",
   "metadata": {},
   "source": [
    "Rearranging columns so that they are in order of increasing average number of occurrences."
   ]
  },
  {
   "cell_type": "code",
   "execution_count": 71,
   "metadata": {},
   "outputs": [],
   "source": [
    "df = df.reindex(df.mean().sort_values().index, axis=1)"
   ]
  },
  {
   "cell_type": "markdown",
   "metadata": {},
   "source": [
    "Extracting the numerical values to a separate array and taking the natural log of the values."
   ]
  },
  {
   "cell_type": "code",
   "execution_count": 72,
   "metadata": {},
   "outputs": [],
   "source": [
    "data = df.values\n",
    "data = data + 1\n",
    "data = np.log(data)"
   ]
  },
  {
   "cell_type": "markdown",
   "metadata": {},
   "source": [
    "Reading in top key words from individual searches."
   ]
  },
  {
   "cell_type": "code",
   "execution_count": 73,
   "metadata": {},
   "outputs": [
    {
     "data": {
      "text/html": [
       "<div>\n",
       "<style scoped>\n",
       "    .dataframe tbody tr th:only-of-type {\n",
       "        vertical-align: middle;\n",
       "    }\n",
       "\n",
       "    .dataframe tbody tr th {\n",
       "        vertical-align: top;\n",
       "    }\n",
       "\n",
       "    .dataframe thead th {\n",
       "        text-align: right;\n",
       "    }\n",
       "</style>\n",
       "<table border=\"1\" class=\"dataframe\">\n",
       "  <thead>\n",
       "    <tr style=\"text-align: right;\">\n",
       "      <th></th>\n",
       "      <th>Unnamed: 0</th>\n",
       "      <th>Division</th>\n",
       "      <th>Keyword</th>\n",
       "      <th>Total</th>\n",
       "    </tr>\n",
       "  </thead>\n",
       "  <tbody>\n",
       "    <tr>\n",
       "      <th>0</th>\n",
       "      <td>45</td>\n",
       "      <td>AGFD</td>\n",
       "      <td>protein*</td>\n",
       "      <td>28984.0</td>\n",
       "    </tr>\n",
       "    <tr>\n",
       "      <th>1</th>\n",
       "      <td>0</td>\n",
       "      <td>AGFD</td>\n",
       "      <td>agricultur*</td>\n",
       "      <td>16595.0</td>\n",
       "    </tr>\n",
       "    <tr>\n",
       "      <th>2</th>\n",
       "      <td>1</td>\n",
       "      <td>AGFD</td>\n",
       "      <td>food</td>\n",
       "      <td>9962.0</td>\n",
       "    </tr>\n",
       "    <tr>\n",
       "      <th>3</th>\n",
       "      <td>36</td>\n",
       "      <td>AGFD</td>\n",
       "      <td>fruit*</td>\n",
       "      <td>5217.0</td>\n",
       "    </tr>\n",
       "    <tr>\n",
       "      <th>4</th>\n",
       "      <td>9</td>\n",
       "      <td>AGFD</td>\n",
       "      <td>nut*</td>\n",
       "      <td>4852.0</td>\n",
       "    </tr>\n",
       "    <tr>\n",
       "      <th>...</th>\n",
       "      <td>...</td>\n",
       "      <td>...</td>\n",
       "      <td>...</td>\n",
       "      <td>...</td>\n",
       "    </tr>\n",
       "    <tr>\n",
       "      <th>135</th>\n",
       "      <td>538</td>\n",
       "      <td>RUBB</td>\n",
       "      <td>rubber*</td>\n",
       "      <td>1068.0</td>\n",
       "    </tr>\n",
       "    <tr>\n",
       "      <th>136</th>\n",
       "      <td>541</td>\n",
       "      <td>SCHB</td>\n",
       "      <td>commercial chem*</td>\n",
       "      <td>7.0</td>\n",
       "    </tr>\n",
       "    <tr>\n",
       "      <th>137</th>\n",
       "      <td>539</td>\n",
       "      <td>SCHB</td>\n",
       "      <td>chem* sector*</td>\n",
       "      <td>4.0</td>\n",
       "    </tr>\n",
       "    <tr>\n",
       "      <th>138</th>\n",
       "      <td>540</td>\n",
       "      <td>SCHB</td>\n",
       "      <td>academic entrepreneur*</td>\n",
       "      <td>2.0</td>\n",
       "    </tr>\n",
       "    <tr>\n",
       "      <th>139</th>\n",
       "      <td>542</td>\n",
       "      <td>SCHB</td>\n",
       "      <td>science advoca*</td>\n",
       "      <td>1.0</td>\n",
       "    </tr>\n",
       "  </tbody>\n",
       "</table>\n",
       "<p>140 rows × 4 columns</p>\n",
       "</div>"
      ],
      "text/plain": [
       "     Unnamed: 0 Division                 Keyword    Total\n",
       "0            45     AGFD                protein*  28984.0\n",
       "1             0     AGFD             agricultur*  16595.0\n",
       "2             1     AGFD                    food   9962.0\n",
       "3            36     AGFD                  fruit*   5217.0\n",
       "4             9     AGFD                    nut*   4852.0\n",
       "..          ...      ...                     ...      ...\n",
       "135         538     RUBB                 rubber*   1068.0\n",
       "136         541     SCHB        commercial chem*      7.0\n",
       "137         539     SCHB           chem* sector*      4.0\n",
       "138         540     SCHB  academic entrepreneur*      2.0\n",
       "139         542     SCHB         science advoca*      1.0\n",
       "\n",
       "[140 rows x 4 columns]"
      ]
     },
     "execution_count": 73,
     "metadata": {},
     "output_type": "execute_result"
    }
   ],
   "source": [
    "top_key = pd.read_csv('top_five_keywords.csv')\n",
    "top_key"
   ]
  },
  {
   "cell_type": "markdown",
   "metadata": {},
   "source": [
    "Here we'll construct a dataframe that contains the top five keywords in a more organized manner."
   ]
  },
  {
   "cell_type": "code",
   "execution_count": 74,
   "metadata": {},
   "outputs": [],
   "source": [
    "df1 = pd.DataFrame()\n",
    "for div in divisions:\n",
    "    \n",
    "    div_df = top_key.loc[top_key['Division'] == div]['Keyword']\n",
    "    \n",
    "    df_dict = {'Division':div}\n",
    "    \n",
    "    for i,row in enumerate(div_df):\n",
    "        \n",
    "        df_dict.update({str(i+1):[row]})\n",
    "     \n",
    "    temp_df = pd.DataFrame(df_dict)\n",
    "    df1 = pd.concat([df1,temp_df])"
   ]
  },
  {
   "cell_type": "code",
   "execution_count": 75,
   "metadata": {},
   "outputs": [],
   "source": [
    "df1 = df1.fillna('None')"
   ]
  },
  {
   "cell_type": "markdown",
   "metadata": {},
   "source": [
    "Saving to CSV"
   ]
  },
  {
   "cell_type": "code",
   "execution_count": 43,
   "metadata": {},
   "outputs": [],
   "source": [
    "df1.to_csv('top_five_keywords_reformatted.csv')"
   ]
  },
  {
   "cell_type": "markdown",
   "metadata": {},
   "source": [
    "Constructing a new dataframe that contains percentages with the top keywords"
   ]
  },
  {
   "cell_type": "code",
   "execution_count": 76,
   "metadata": {},
   "outputs": [],
   "source": [
    "df3 = pd.read_csv('occurences_of_individual_keywords.csv')"
   ]
  },
  {
   "cell_type": "code",
   "execution_count": 77,
   "metadata": {},
   "outputs": [
    {
     "data": {
      "text/html": [
       "<div>\n",
       "<style scoped>\n",
       "    .dataframe tbody tr th:only-of-type {\n",
       "        vertical-align: middle;\n",
       "    }\n",
       "\n",
       "    .dataframe tbody tr th {\n",
       "        vertical-align: top;\n",
       "    }\n",
       "\n",
       "    .dataframe thead th {\n",
       "        text-align: right;\n",
       "    }\n",
       "</style>\n",
       "<table border=\"1\" class=\"dataframe\">\n",
       "  <thead>\n",
       "    <tr style=\"text-align: right;\">\n",
       "      <th></th>\n",
       "      <th>Division</th>\n",
       "      <th>1</th>\n",
       "      <th>2</th>\n",
       "      <th>3</th>\n",
       "      <th>4</th>\n",
       "      <th>5</th>\n",
       "      <th>Total All Keywords</th>\n",
       "    </tr>\n",
       "  </thead>\n",
       "  <tbody>\n",
       "    <tr>\n",
       "      <th>0</th>\n",
       "      <td>PHYS</td>\n",
       "      <td>electro*</td>\n",
       "      <td>spectroscopy</td>\n",
       "      <td>ion*</td>\n",
       "      <td>nano*</td>\n",
       "      <td>quantum*</td>\n",
       "      <td>173307.0</td>\n",
       "    </tr>\n",
       "    <tr>\n",
       "      <th>0</th>\n",
       "      <td>ANYL</td>\n",
       "      <td>sensor*</td>\n",
       "      <td>spectroscopy</td>\n",
       "      <td>characterization*</td>\n",
       "      <td>spectrometry</td>\n",
       "      <td>groundwater</td>\n",
       "      <td>126970.0</td>\n",
       "    </tr>\n",
       "    <tr>\n",
       "      <th>0</th>\n",
       "      <td>ENVR</td>\n",
       "      <td>*sensor*</td>\n",
       "      <td>soil*</td>\n",
       "      <td>water quality</td>\n",
       "      <td>environmental monitor*</td>\n",
       "      <td>cataly*</td>\n",
       "      <td>118211.0</td>\n",
       "    </tr>\n",
       "    <tr>\n",
       "      <th>0</th>\n",
       "      <td>AGFD</td>\n",
       "      <td>protein*</td>\n",
       "      <td>agricultur*</td>\n",
       "      <td>food</td>\n",
       "      <td>fruit*</td>\n",
       "      <td>nut*</td>\n",
       "      <td>91406.0</td>\n",
       "    </tr>\n",
       "    <tr>\n",
       "      <th>0</th>\n",
       "      <td>ENFL</td>\n",
       "      <td>fuel*</td>\n",
       "      <td>petroleum</td>\n",
       "      <td>energy efficiency</td>\n",
       "      <td>batter*</td>\n",
       "      <td>renewable energy</td>\n",
       "      <td>73669.0</td>\n",
       "    </tr>\n",
       "  </tbody>\n",
       "</table>\n",
       "</div>"
      ],
      "text/plain": [
       "  Division         1             2                  3                       4  \\\n",
       "0     PHYS  electro*  spectroscopy               ion*                   nano*   \n",
       "0     ANYL   sensor*  spectroscopy  characterization*            spectrometry   \n",
       "0     ENVR  *sensor*         soil*      water quality  environmental monitor*   \n",
       "0     AGFD  protein*   agricultur*               food                  fruit*   \n",
       "0     ENFL     fuel*     petroleum  energy efficiency                 batter*   \n",
       "\n",
       "                  5  Total All Keywords  \n",
       "0          quantum*            173307.0  \n",
       "0       groundwater            126970.0  \n",
       "0           cataly*            118211.0  \n",
       "0              nut*             91406.0  \n",
       "0  renewable energy             73669.0  "
      ]
     },
     "execution_count": 77,
     "metadata": {},
     "output_type": "execute_result"
    }
   ],
   "source": [
    "df1['Total All Keywords'] = df1['Division'].apply(lambda x: df3.loc[df3['Division'] == x]['Total'].sum())\n",
    "df1.head()"
   ]
  },
  {
   "cell_type": "code",
   "execution_count": 78,
   "metadata": {},
   "outputs": [],
   "source": [
    "df4 = pd.DataFrame()\n",
    "for div in divisions:\n",
    "    df_dict = {'Division':div}\n",
    "    for num in ['1','2','3','4','5']:\n",
    "        div_dict = df1.loc[df1['Division'] == div]\n",
    "        kw = div_dict[num].values[0]\n",
    "        \n",
    "        if kw != 'None': \n",
    "            kw_tot = df3.loc[(df3['Division'] == div) & (df3['Keyword'] == kw)]['Total'].values[0]\n",
    "            div_tot = div_dict['Total All Keywords'].values[0]\n",
    "            percentage = np.round(100 * ( kw_tot / div_tot), 1)\n",
    "            df_dict.update({num:kw+f' ({percentage}%)'})\n",
    "            \n",
    "        else:\n",
    "            df_dict.update({num:'None'})\n",
    "            \n",
    "    df4 = df4.append(df_dict, ignore_index=True)"
   ]
  },
  {
   "cell_type": "code",
   "execution_count": 79,
   "metadata": {},
   "outputs": [
    {
     "data": {
      "text/html": [
       "<div>\n",
       "<style scoped>\n",
       "    .dataframe tbody tr th:only-of-type {\n",
       "        vertical-align: middle;\n",
       "    }\n",
       "\n",
       "    .dataframe tbody tr th {\n",
       "        vertical-align: top;\n",
       "    }\n",
       "\n",
       "    .dataframe thead th {\n",
       "        text-align: right;\n",
       "    }\n",
       "</style>\n",
       "<table border=\"1\" class=\"dataframe\">\n",
       "  <thead>\n",
       "    <tr style=\"text-align: right;\">\n",
       "      <th></th>\n",
       "      <th>Division</th>\n",
       "      <th>1</th>\n",
       "      <th>2</th>\n",
       "      <th>3</th>\n",
       "      <th>4</th>\n",
       "      <th>5</th>\n",
       "    </tr>\n",
       "  </thead>\n",
       "  <tbody>\n",
       "    <tr>\n",
       "      <th>0</th>\n",
       "      <td>PHYS</td>\n",
       "      <td>electro* (56.2%)</td>\n",
       "      <td>spectroscopy (9.7%)</td>\n",
       "      <td>ion* (6.0%)</td>\n",
       "      <td>nano* (5.5%)</td>\n",
       "      <td>quantum* (5.4%)</td>\n",
       "    </tr>\n",
       "    <tr>\n",
       "      <th>1</th>\n",
       "      <td>ANYL</td>\n",
       "      <td>sensor* (55.3%)</td>\n",
       "      <td>spectroscopy (13.2%)</td>\n",
       "      <td>characterization* (11.6%)</td>\n",
       "      <td>spectrometry (4.3%)</td>\n",
       "      <td>groundwater (3.6%)</td>\n",
       "    </tr>\n",
       "    <tr>\n",
       "      <th>2</th>\n",
       "      <td>ENVR</td>\n",
       "      <td>*sensor* (60.7%)</td>\n",
       "      <td>soil* (14.5%)</td>\n",
       "      <td>water quality (4.2%)</td>\n",
       "      <td>environmental monitor* (3.1%)</td>\n",
       "      <td>cataly* (3.0%)</td>\n",
       "    </tr>\n",
       "    <tr>\n",
       "      <th>3</th>\n",
       "      <td>AGFD</td>\n",
       "      <td>protein* (31.7%)</td>\n",
       "      <td>agricultur* (18.2%)</td>\n",
       "      <td>food (10.9%)</td>\n",
       "      <td>fruit* (5.7%)</td>\n",
       "      <td>nut* (5.3%)</td>\n",
       "    </tr>\n",
       "    <tr>\n",
       "      <th>4</th>\n",
       "      <td>ENFL</td>\n",
       "      <td>fuel* (19.1%)</td>\n",
       "      <td>petroleum (11.6%)</td>\n",
       "      <td>energy efficiency (11.2%)</td>\n",
       "      <td>batter* (10.6%)</td>\n",
       "      <td>renewable energy (8.0%)</td>\n",
       "    </tr>\n",
       "  </tbody>\n",
       "</table>\n",
       "</div>"
      ],
      "text/plain": [
       "  Division                 1                     2                          3  \\\n",
       "0     PHYS  electro* (56.2%)   spectroscopy (9.7%)                ion* (6.0%)   \n",
       "1     ANYL   sensor* (55.3%)  spectroscopy (13.2%)  characterization* (11.6%)   \n",
       "2     ENVR  *sensor* (60.7%)         soil* (14.5%)       water quality (4.2%)   \n",
       "3     AGFD  protein* (31.7%)   agricultur* (18.2%)               food (10.9%)   \n",
       "4     ENFL     fuel* (19.1%)     petroleum (11.6%)  energy efficiency (11.2%)   \n",
       "\n",
       "                               4                        5  \n",
       "0                   nano* (5.5%)          quantum* (5.4%)  \n",
       "1            spectrometry (4.3%)       groundwater (3.6%)  \n",
       "2  environmental monitor* (3.1%)           cataly* (3.0%)  \n",
       "3                  fruit* (5.7%)              nut* (5.3%)  \n",
       "4                batter* (10.6%)  renewable energy (8.0%)  "
      ]
     },
     "execution_count": 79,
     "metadata": {},
     "output_type": "execute_result"
    }
   ],
   "source": [
    "df4 = df4[['Division','1','2','3','4','5']]\n",
    "df4.head()"
   ]
  },
  {
   "cell_type": "code",
   "execution_count": 48,
   "metadata": {},
   "outputs": [],
   "source": [
    "df4.to_csv('top_five_keywords_with_percentages.csv')"
   ]
  },
  {
   "cell_type": "markdown",
   "metadata": {},
   "source": [
    "Finally, we can visualize the results in a heatmap below."
   ]
  },
  {
   "cell_type": "code",
   "execution_count": 81,
   "metadata": {},
   "outputs": [
    {
     "data": {
      "image/png": "[encoded data removed]",
      "text/plain": [
       "<Figure size 1440x720 with 2 Axes>"
      ]
     },
     "metadata": {
      "needs_background": "light"
     },
     "output_type": "display_data"
    },
    {
     "data": {
      "text/plain": [
       "<Figure size 432x288 with 0 Axes>"
      ]
     },
     "metadata": {},
     "output_type": "display_data"
    }
   ],
   "source": [
    "from matplotlib import pyplot as plt\n",
    "from mpl_toolkits.axes_grid1 import make_axes_locatable\n",
    "\n",
    "fig, ax = plt.subplots(figsize=[20,10])\n",
    "im = ax.imshow(data, cmap='hot_r')\n",
    "#im = ax.pcolor(data, cmap='hot_r', edgecolors='k', linewidths=0.5)\n",
    "\n",
    "ax.set_xticks(np.arange(len(ml_terms_formatted)))\n",
    "ax.set_yticks(np.arange(len(divisions)))\n",
    "\n",
    "ax.set_xticklabels(ml_terms_formatted, fontweight = 'bold', fontsize = 12)\n",
    "ax.set_yticklabels(divisions, fontweight = 'bold', fontsize = 12)\n",
    "\n",
    "plt.setp(ax.get_xticklabels(), rotation=45, ha=\"right\",\n",
    "         rotation_mode=\"anchor\")\n",
    "\n",
    "divider = make_axes_locatable(ax)\n",
    "cax = divider.append_axes(\"right\", size=\"10%\", pad=0.25)\n",
    "\n",
    "cb = plt.colorbar(im, cax=cax)\n",
    "cb.set_label(label='ln(No. of Occurrences)',weight='bold',size=12)\n",
    "\n",
    "for i in range(len(divisions)):\n",
    "    for j in range(len(ml_terms_formatted)):\n",
    "        if data[i, j] == 0:\n",
    "            text = ax.text(j, i, 'X',ha=\"center\", va=\"center\", color=\"k\", size=18)\n",
    "\n",
    "#table = plt.table(cellText=text_data,loc='upper center',colWidths=[5]*5,rowLabels=divisions)\n",
    "            \n",
    "plt.show()\n",
    "plt.tight_layout()\n",
    "#plt.savefig('heatmap.png',format='png',dpi=600)"
   ]
  },
  {
   "cell_type": "markdown",
   "metadata": {},
   "source": [
    "A square in the heatmap represents the natural log of the number of occurrences of an ML algorithm name in literature that belong to an ACS division. Squares with an \"X\" mean that there were zero occurrences. We can observe from this figure that the PHYS division and Neural Networks had the most literature hits, and divisions like HIST, PROF, and CHAL don't have many pieces of literature that mention ML algorithms."
   ]
  },
  {
   "cell_type": "code",
   "execution_count": null,
   "metadata": {},
   "outputs": [],
   "source": []
  }
 ],
 "metadata": {
  "kernelspec": {
   "display_name": "Python 3",
   "language": "python",
   "name": "python3"
  },
  "language_info": {
   "codemirror_mode": {
    "name": "ipython",
    "version": 3
   },
   "file_extension": ".py",
   "mimetype": "text/x-python",
   "name": "python",
   "nbconvert_exporter": "python",
   "pygments_lexer": "ipython3",
   "version": "3.7.1"
  }
 },
 "nbformat": 4,
 "nbformat_minor": 2
}
